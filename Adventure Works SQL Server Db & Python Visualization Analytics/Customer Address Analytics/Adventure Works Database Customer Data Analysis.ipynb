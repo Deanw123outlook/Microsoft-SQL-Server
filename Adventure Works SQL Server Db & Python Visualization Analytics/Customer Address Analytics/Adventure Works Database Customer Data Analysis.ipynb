{
 "cells": [
  {
   "cell_type": "markdown",
   "metadata": {},
   "source": [
    "## Adventure Works Database Customer Data Analysis\n",
    "\n",
    "###### Microsoft SQL Server Management Studio (SQL)\n",
    "We will be working with the Adventure Works Database in Microsoft SQL Server Management Studio. We will be focusing specifically on three columns including the database's Address table, Customer table and Customer Address table. We will be using Microsoft SQL Server Management Studio to perform base analysis. This will include writing join queries and then migrating this data into Python. This requires knowledge using Microsot SSMS and SQL language. \n",
    "\n",
    "###### Jupyter Notebook (Python)\n",
    "Once the specific data from our database is migrated from Microsoft SSMS into Jupyer Notebook we will begin using Python packages to get interesting insights into our data. Packages we will use will include:\n",
    "\n",
    "- Pyodbc Library\n",
    "\n",
    "Pyodbc is an open source Python module that makes accessing ODBC databases simple.\n",
    "\n",
    "- Numpy Library\n",
    "\n",
    "Numerical Python known for heavy dataset computations and many other features such as time series etc.\n",
    "\n",
    "- Pandas Library\n",
    "\n",
    "Pandas for data analysis\n",
    "\n",
    "- Matplotlib Library\n",
    "\n",
    "Visualization Library\n",
    "\n",
    "- Seaborn Library\n",
    "\n",
    "Seaborn is a visualization library built on Matplotlib library\n",
    "\n",
    "- Missingno Library\n",
    "\n",
    "Missingno is a Python library that provides the ability to understand the distribution of missing values through informative visualizations.\n",
    "\n",
    "- Collections Library\n",
    "\n",
    "Several modules have been developed that provide additional data structures to store collections of data. One such module is the Python collections module."
   ]
  },
  {
   "cell_type": "markdown",
   "metadata": {},
   "source": [
    "### Import required libraries"
   ]
  },
  {
   "cell_type": "code",
   "execution_count": 1,
   "metadata": {},
   "outputs": [],
   "source": [
    "import pyodbc \n",
    "import numpy as np\n",
    "import pandas as pd \n",
    "import matplotlib.pyplot as plt\n",
    "import seaborn as sns\n",
    "import missingno as msno\n",
    "from collections import Counter"
   ]
  },
  {
   "cell_type": "markdown",
   "metadata": {},
   "source": [
    "### Setting upconnection envoirnment from Microsft SSMS to Jupyter Notebook using Pyodbc\n",
    "NOTE - Remember Indentations and to use your personal SERVER & DATABASE names\n",
    "\n",
    "Server name located (personal) Control Panel | System and Security | System"
   ]
  },
  {
   "cell_type": "code",
   "execution_count": 2,
   "metadata": {},
   "outputs": [],
   "source": [
    "conn = pyodbc.connect('Driver={SQL Server};'\n",
    "                      'Server=xxxxxxx;' # server (personal)\n",
    "                      'Database=AdventureWorksLT2008R2;'\n",
    "                      'Trusted_Connection=yes;')"
   ]
  },
  {
   "cell_type": "markdown",
   "metadata": {},
   "source": [
    "### Importing SSMS Database into Pandas Dataframe Object\n",
    "\n",
    "The following SQL query uses an inner join which will return only matching data from both tables used. this is a popular query and is self explanatory. Using Python's Pyodbc module we will be importing specific data and creating a pandas data frame object for data manipulation."
   ]
  },
  {
   "cell_type": "code",
   "execution_count": 3,
   "metadata": {},
   "outputs": [],
   "source": [
    "customer_data = pd.read_sql_query('SELECT * FROM SalesLT.Address AS c INNER JOIN SalesLT.CustomerAddress AS d ON c.AddressID = d.AddressID', conn)"
   ]
  },
  {
   "cell_type": "code",
   "execution_count": 4,
   "metadata": {},
   "outputs": [
    {
     "data": {
      "text/html": [
       "<div>\n",
       "<style scoped>\n",
       "    .dataframe tbody tr th:only-of-type {\n",
       "        vertical-align: middle;\n",
       "    }\n",
       "\n",
       "    .dataframe tbody tr th {\n",
       "        vertical-align: top;\n",
       "    }\n",
       "\n",
       "    .dataframe thead th {\n",
       "        text-align: right;\n",
       "    }\n",
       "</style>\n",
       "<table border=\"1\" class=\"dataframe\">\n",
       "  <thead>\n",
       "    <tr style=\"text-align: right;\">\n",
       "      <th></th>\n",
       "      <th>AddressID</th>\n",
       "      <th>AddressLine1</th>\n",
       "      <th>AddressLine2</th>\n",
       "      <th>City</th>\n",
       "      <th>StateProvince</th>\n",
       "      <th>CountryRegion</th>\n",
       "      <th>PostalCode</th>\n",
       "      <th>rowguid</th>\n",
       "      <th>ModifiedDate</th>\n",
       "      <th>CustomerID</th>\n",
       "      <th>AddressID</th>\n",
       "      <th>AddressType</th>\n",
       "      <th>rowguid</th>\n",
       "      <th>ModifiedDate</th>\n",
       "    </tr>\n",
       "  </thead>\n",
       "  <tbody>\n",
       "    <tr>\n",
       "      <th>0</th>\n",
       "      <td>9</td>\n",
       "      <td>8713 Yosemite Ct.</td>\n",
       "      <td>None</td>\n",
       "      <td>Bothell</td>\n",
       "      <td>Washington</td>\n",
       "      <td>United States</td>\n",
       "      <td>98011</td>\n",
       "      <td>268AF621-76D7-4C78-9441-144FD139821A</td>\n",
       "      <td>2002-07-01</td>\n",
       "      <td>30018</td>\n",
       "      <td>9</td>\n",
       "      <td>Shipping</td>\n",
       "      <td>432BBEE2-8A6B-45E3-8915-9350F0434E3F</td>\n",
       "      <td>2002-07-01</td>\n",
       "    </tr>\n",
       "    <tr>\n",
       "      <th>1</th>\n",
       "      <td>11</td>\n",
       "      <td>1318 Lasalle Street</td>\n",
       "      <td>None</td>\n",
       "      <td>Bothell</td>\n",
       "      <td>Washington</td>\n",
       "      <td>United States</td>\n",
       "      <td>98011</td>\n",
       "      <td>981B3303-ACA2-49C7-9A96-FB670785B269</td>\n",
       "      <td>2003-04-01</td>\n",
       "      <td>29545</td>\n",
       "      <td>11</td>\n",
       "      <td>Shipping</td>\n",
       "      <td>3D88495A-776E-414A-A91E-6D8979A35D86</td>\n",
       "      <td>2003-04-01</td>\n",
       "    </tr>\n",
       "    <tr>\n",
       "      <th>2</th>\n",
       "      <td>25</td>\n",
       "      <td>9178 Jumping St.</td>\n",
       "      <td>None</td>\n",
       "      <td>Dallas</td>\n",
       "      <td>Texas</td>\n",
       "      <td>United States</td>\n",
       "      <td>75201</td>\n",
       "      <td>C8DF3BD9-48F0-4654-A8DD-14A67A84D3C6</td>\n",
       "      <td>2002-09-01</td>\n",
       "      <td>29954</td>\n",
       "      <td>25</td>\n",
       "      <td>Shipping</td>\n",
       "      <td>85666565-49E8-427A-8A2A-C7960C7E665A</td>\n",
       "      <td>2002-09-01</td>\n",
       "    </tr>\n",
       "    <tr>\n",
       "      <th>3</th>\n",
       "      <td>28</td>\n",
       "      <td>9228 Via Del Sol</td>\n",
       "      <td>None</td>\n",
       "      <td>Phoenix</td>\n",
       "      <td>Arizona</td>\n",
       "      <td>United States</td>\n",
       "      <td>85004</td>\n",
       "      <td>12AE5EE1-FC3E-468B-9B92-3B970B169774</td>\n",
       "      <td>2001-09-01</td>\n",
       "      <td>29897</td>\n",
       "      <td>28</td>\n",
       "      <td>Shipping</td>\n",
       "      <td>32AC1E35-A59F-4776-BA25-E64429512B5D</td>\n",
       "      <td>2001-09-01</td>\n",
       "    </tr>\n",
       "  </tbody>\n",
       "</table>\n",
       "</div>"
      ],
      "text/plain": [
       "   AddressID         AddressLine1 AddressLine2     City StateProvince  \\\n",
       "0          9    8713 Yosemite Ct.         None  Bothell    Washington   \n",
       "1         11  1318 Lasalle Street         None  Bothell    Washington   \n",
       "2         25     9178 Jumping St.         None   Dallas         Texas   \n",
       "3         28     9228 Via Del Sol         None  Phoenix       Arizona   \n",
       "\n",
       "   CountryRegion PostalCode                               rowguid  \\\n",
       "0  United States      98011  268AF621-76D7-4C78-9441-144FD139821A   \n",
       "1  United States      98011  981B3303-ACA2-49C7-9A96-FB670785B269   \n",
       "2  United States      75201  C8DF3BD9-48F0-4654-A8DD-14A67A84D3C6   \n",
       "3  United States      85004  12AE5EE1-FC3E-468B-9B92-3B970B169774   \n",
       "\n",
       "  ModifiedDate  CustomerID  AddressID AddressType  \\\n",
       "0   2002-07-01       30018          9    Shipping   \n",
       "1   2003-04-01       29545         11    Shipping   \n",
       "2   2002-09-01       29954         25    Shipping   \n",
       "3   2001-09-01       29897         28    Shipping   \n",
       "\n",
       "                                rowguid ModifiedDate  \n",
       "0  432BBEE2-8A6B-45E3-8915-9350F0434E3F   2002-07-01  \n",
       "1  3D88495A-776E-414A-A91E-6D8979A35D86   2003-04-01  \n",
       "2  85666565-49E8-427A-8A2A-C7960C7E665A   2002-09-01  \n",
       "3  32AC1E35-A59F-4776-BA25-E64429512B5D   2001-09-01  "
      ]
     },
     "execution_count": 4,
     "metadata": {},
     "output_type": "execute_result"
    }
   ],
   "source": [
    "customer_data.head(4)"
   ]
  },
  {
   "cell_type": "code",
   "execution_count": 5,
   "metadata": {},
   "outputs": [
    {
     "name": "stdout",
     "output_type": "stream",
     "text": [
      "<class 'pandas.core.frame.DataFrame'>\n",
      "RangeIndex: 417 entries, 0 to 416\n",
      "Data columns (total 14 columns):\n",
      " #   Column         Non-Null Count  Dtype         \n",
      "---  ------         --------------  -----         \n",
      " 0   AddressID      417 non-null    int64         \n",
      " 1   AddressLine1   417 non-null    object        \n",
      " 2   AddressLine2   11 non-null     object        \n",
      " 3   City           417 non-null    object        \n",
      " 4   StateProvince  417 non-null    object        \n",
      " 5   CountryRegion  417 non-null    object        \n",
      " 6   PostalCode     417 non-null    object        \n",
      " 7   rowguid        417 non-null    object        \n",
      " 8   ModifiedDate   417 non-null    datetime64[ns]\n",
      " 9   CustomerID     417 non-null    int64         \n",
      " 10  AddressID      417 non-null    int64         \n",
      " 11  AddressType    417 non-null    object        \n",
      " 12  rowguid        417 non-null    object        \n",
      " 13  ModifiedDate   417 non-null    datetime64[ns]\n",
      "dtypes: datetime64[ns](2), int64(3), object(9)\n",
      "memory usage: 45.7+ KB\n"
     ]
    },
    {
     "data": {
      "text/plain": [
       "(None,\n",
       "                     AddressLine1 AddressLine2     City StateProvince  \\\n",
       " count                        417           11      417           417   \n",
       " unique                       412           11      256            25   \n",
       " top     Garamonde Drive, Wymbush     Ste 1071  Toronto    California   \n",
       " freq                           2            1       23            65   \n",
       " \n",
       "         CountryRegion PostalCode                               rowguid  \\\n",
       " count             417        417                                   417   \n",
       " unique              3        287                                   417   \n",
       " top     United States    T2P 2G8  EB632E56-4299-4714-9E91-224319BDCB62   \n",
       " freq              272         11                                     1   \n",
       " \n",
       "         AddressType                               rowguid  \n",
       " count           417                                   417  \n",
       " unique            2                                   417  \n",
       " top     Main Office  B7CDC62A-5672-4327-9B71-2BA730134D98  \n",
       " freq            407                                     1  )"
      ]
     },
     "execution_count": 5,
     "metadata": {},
     "output_type": "execute_result"
    }
   ],
   "source": [
    "customer_data.info(), customer_data.describe(include = object)"
   ]
  },
  {
   "cell_type": "markdown",
   "metadata": {},
   "source": [
    "### Data Cleaning\n",
    "- Missing Data Analysis\n",
    "\n",
    "Working with this specific query in Microsoft SSMS we are informed the both tables hold consistent data apart from 1 column - Address Line 2. Considering this finding and having an understanding of SQL inner join query which will return matching rows from both tables we can determine that there will be no missing data. \n",
    "\n",
    "We will be removing the column (AddressLine2) mentioned above."
   ]
  },
  {
   "cell_type": "code",
   "execution_count": 6,
   "metadata": {},
   "outputs": [
    {
     "data": {
      "text/plain": [
       "AddressID          0\n",
       "AddressLine1       0\n",
       "AddressLine2     406\n",
       "City               0\n",
       "StateProvince      0\n",
       "CountryRegion      0\n",
       "PostalCode         0\n",
       "rowguid            0\n",
       "ModifiedDate       0\n",
       "CustomerID         0\n",
       "AddressID          0\n",
       "AddressType        0\n",
       "rowguid            0\n",
       "ModifiedDate       0\n",
       "dtype: int64"
      ]
     },
     "execution_count": 6,
     "metadata": {},
     "output_type": "execute_result"
    },
    {
     "data": {
      "image/png": "[encoded data removed]",
      "text/plain": [
       "<Figure size 1800x720 with 2 Axes>"
      ]
     },
     "metadata": {
      "needs_background": "light"
     },
     "output_type": "display_data"
    }
   ],
   "source": [
    "# Missingness Analysis\n",
    "msno.matrix(customer_data) # missing data visual matrix\n",
    "customer_data.isnull().sum() # Sum total of missing value's"
   ]
  },
  {
   "cell_type": "code",
   "execution_count": 7,
   "metadata": {},
   "outputs": [],
   "source": [
    "customer_data = customer_data.drop(['AddressLine2'], axis=1) # drop pandas dataframe object column"
   ]
  },
  {
   "cell_type": "markdown",
   "metadata": {},
   "source": [
    "We can confirm we have succesfully dropped the specific column which was made up of 97% missing data from our inevstigation analysis. "
   ]
  },
  {
   "cell_type": "markdown",
   "metadata": {},
   "source": [
    "### Duplicate Data\n",
    "Completing an SQL Inner Join using two database tables we need one matching column from both tables that we can match on. For this instance we matched on the Address ID. We can see from the above we now have a duplicated column ie. two columns are the same holding the same data. We will need to drop one of the columns and user indexing to do so."
   ]
  },
  {
   "cell_type": "code",
   "execution_count": 8,
   "metadata": {},
   "outputs": [],
   "source": [
    "customer_data = customer_data.drop(customer_data.columns[[9]], axis = 1) # drop pandas dataframe object column using column indexing\n",
    "customer_data = customer_data.drop(customer_data.columns[[-1]], axis = 1)"
   ]
  },
  {
   "cell_type": "code",
   "execution_count": 9,
   "metadata": {},
   "outputs": [
    {
     "data": {
      "text/html": [
       "<div>\n",
       "<style scoped>\n",
       "    .dataframe tbody tr th:only-of-type {\n",
       "        vertical-align: middle;\n",
       "    }\n",
       "\n",
       "    .dataframe tbody tr th {\n",
       "        vertical-align: top;\n",
       "    }\n",
       "\n",
       "    .dataframe thead th {\n",
       "        text-align: right;\n",
       "    }\n",
       "</style>\n",
       "<table border=\"1\" class=\"dataframe\">\n",
       "  <thead>\n",
       "    <tr style=\"text-align: right;\">\n",
       "      <th></th>\n",
       "      <th>AddressLine1</th>\n",
       "      <th>City</th>\n",
       "      <th>StateProvince</th>\n",
       "      <th>CountryRegion</th>\n",
       "      <th>PostalCode</th>\n",
       "      <th>rowguid</th>\n",
       "      <th>CustomerID</th>\n",
       "      <th>AddressType</th>\n",
       "      <th>rowguid</th>\n",
       "    </tr>\n",
       "  </thead>\n",
       "  <tbody>\n",
       "    <tr>\n",
       "      <th>0</th>\n",
       "      <td>8713 Yosemite Ct.</td>\n",
       "      <td>Bothell</td>\n",
       "      <td>Washington</td>\n",
       "      <td>United States</td>\n",
       "      <td>98011</td>\n",
       "      <td>268AF621-76D7-4C78-9441-144FD139821A</td>\n",
       "      <td>30018</td>\n",
       "      <td>Shipping</td>\n",
       "      <td>432BBEE2-8A6B-45E3-8915-9350F0434E3F</td>\n",
       "    </tr>\n",
       "    <tr>\n",
       "      <th>1</th>\n",
       "      <td>1318 Lasalle Street</td>\n",
       "      <td>Bothell</td>\n",
       "      <td>Washington</td>\n",
       "      <td>United States</td>\n",
       "      <td>98011</td>\n",
       "      <td>981B3303-ACA2-49C7-9A96-FB670785B269</td>\n",
       "      <td>29545</td>\n",
       "      <td>Shipping</td>\n",
       "      <td>3D88495A-776E-414A-A91E-6D8979A35D86</td>\n",
       "    </tr>\n",
       "    <tr>\n",
       "      <th>2</th>\n",
       "      <td>9178 Jumping St.</td>\n",
       "      <td>Dallas</td>\n",
       "      <td>Texas</td>\n",
       "      <td>United States</td>\n",
       "      <td>75201</td>\n",
       "      <td>C8DF3BD9-48F0-4654-A8DD-14A67A84D3C6</td>\n",
       "      <td>29954</td>\n",
       "      <td>Shipping</td>\n",
       "      <td>85666565-49E8-427A-8A2A-C7960C7E665A</td>\n",
       "    </tr>\n",
       "    <tr>\n",
       "      <th>3</th>\n",
       "      <td>9228 Via Del Sol</td>\n",
       "      <td>Phoenix</td>\n",
       "      <td>Arizona</td>\n",
       "      <td>United States</td>\n",
       "      <td>85004</td>\n",
       "      <td>12AE5EE1-FC3E-468B-9B92-3B970B169774</td>\n",
       "      <td>29897</td>\n",
       "      <td>Shipping</td>\n",
       "      <td>32AC1E35-A59F-4776-BA25-E64429512B5D</td>\n",
       "    </tr>\n",
       "  </tbody>\n",
       "</table>\n",
       "</div>"
      ],
      "text/plain": [
       "          AddressLine1     City StateProvince  CountryRegion PostalCode  \\\n",
       "0    8713 Yosemite Ct.  Bothell    Washington  United States      98011   \n",
       "1  1318 Lasalle Street  Bothell    Washington  United States      98011   \n",
       "2     9178 Jumping St.   Dallas         Texas  United States      75201   \n",
       "3     9228 Via Del Sol  Phoenix       Arizona  United States      85004   \n",
       "\n",
       "                                rowguid  CustomerID AddressType  \\\n",
       "0  268AF621-76D7-4C78-9441-144FD139821A       30018    Shipping   \n",
       "1  981B3303-ACA2-49C7-9A96-FB670785B269       29545    Shipping   \n",
       "2  C8DF3BD9-48F0-4654-A8DD-14A67A84D3C6       29954    Shipping   \n",
       "3  12AE5EE1-FC3E-468B-9B92-3B970B169774       29897    Shipping   \n",
       "\n",
       "                                rowguid  \n",
       "0  432BBEE2-8A6B-45E3-8915-9350F0434E3F  \n",
       "1  3D88495A-776E-414A-A91E-6D8979A35D86  \n",
       "2  85666565-49E8-427A-8A2A-C7960C7E665A  \n",
       "3  32AC1E35-A59F-4776-BA25-E64429512B5D  "
      ]
     },
     "execution_count": 9,
     "metadata": {},
     "output_type": "execute_result"
    }
   ],
   "source": [
    "customer_data.head(4)"
   ]
  },
  {
   "cell_type": "markdown",
   "metadata": {},
   "source": [
    "We have removed the duplicated data (repeated columns) as we can see from the analysis above."
   ]
  },
  {
   "cell_type": "markdown",
   "metadata": {},
   "source": [
    "# Data Visualization \n",
    "What is interesting from the above pandas dataframe object is the categorical variables city, state/province and country/region. What we know from our analysis of the database in Microsofts SSMS is that this data can be linked to a specific customer via the customer ID. \n",
    "\n",
    "Next we will use this information to gather some interesting insights using data visualization libraries.\n",
    "\n",
    "\n",
    "#### State Province\n",
    "We will ask some specific questions:\n",
    "\n",
    "###### 1 - What are the top 5 State/Provinces for customers ?"
   ]
  },
  {
   "cell_type": "code",
   "execution_count": 10,
   "metadata": {},
   "outputs": [
    {
     "data": {
      "text/plain": [
       "California          65\n",
       "Ontario             51\n",
       "Washington          48\n",
       "England             38\n",
       "Texas               37\n",
       "Quebec              24\n",
       "Oregon              17\n",
       "British Columbia    17\n",
       "Michigan            16\n",
       "Illinois            14\n",
       "Alberta             13\n",
       "Arizona             13\n",
       "Missouri            11\n",
       "Utah                 9\n",
       "Colorado             9\n",
       "Nevada               7\n",
       "Minnesota            7\n",
       "Wisconsin            4\n",
       "Wyoming              4\n",
       "New Mexico           3\n",
       "Montana              3\n",
       "Idaho                3\n",
       "South Dakota         2\n",
       "Brunswick            1\n",
       "Manitoba             1\n",
       "Name: StateProvince, dtype: int64"
      ]
     },
     "execution_count": 10,
     "metadata": {},
     "output_type": "execute_result"
    }
   ],
   "source": [
    "customer_data['StateProvince'].value_counts() # value counts () returns the frequency for each category value in the series"
   ]
  },
  {
   "cell_type": "code",
   "execution_count": 11,
   "metadata": {},
   "outputs": [],
   "source": [
    "top_states = ['California','Ontario','Washington','England','Texas'] # Create a List of Top five State Provinces\n",
    "top_states_provinces = customer_data[customer_data['StateProvince'].isin(top_states)] # subsetting data based on specific observations"
   ]
  },
  {
   "cell_type": "markdown",
   "metadata": {},
   "source": [
    "Pandas isin() method is used to filter data frames. isin() method helps in selecting rows with having a particular(or Multiple) value in a particular column. Syntax: DataFrame.isin(values)"
   ]
  },
  {
   "cell_type": "code",
   "execution_count": 12,
   "metadata": {},
   "outputs": [
    {
     "data": {
      "image/png": "[encoded data removed]",
      "text/plain": [
       "<Figure size 576x432 with 1 Axes>"
      ]
     },
     "metadata": {
      "needs_background": "light"
     },
     "output_type": "display_data"
    },
    {
     "data": {
      "text/plain": [
       "California    65\n",
       "Ontario       51\n",
       "Washington    48\n",
       "England       38\n",
       "Texas         37\n",
       "Name: StateProvince, dtype: int64"
      ]
     },
     "metadata": {},
     "output_type": "display_data"
    }
   ],
   "source": [
    "plt.figure(figsize=(8,6))\n",
    "sns.set_style('darkgrid')\n",
    "sns.countplot(x = top_states_provinces['StateProvince'], data = top_states_provinces)\n",
    "plt.xticks(rotation = '90')\n",
    "plt.show ()\n",
    "#\n",
    "display(top_states_provinces['StateProvince'].value_counts())"
   ]
  },
  {
   "cell_type": "markdown",
   "metadata": {},
   "source": [
    "###### 2 - What are the bottom 5 states/provinces for customers ?"
   ]
  },
  {
   "cell_type": "code",
   "execution_count": 13,
   "metadata": {},
   "outputs": [],
   "source": [
    "bottom_states = ['Idaho','New Mexico','South Dakota','Manitoba','Brunswick'] # Create a List of bottom five State Provinces\n",
    "bottom_states_provinces = customer_data[customer_data['StateProvince'].isin(bottom_states)] # subsetting data based on specific observations"
   ]
  },
  {
   "cell_type": "code",
   "execution_count": 14,
   "metadata": {},
   "outputs": [
    {
     "data": {
      "image/png": "[encoded data removed]",
      "text/plain": [
       "<Figure size 576x432 with 1 Axes>"
      ]
     },
     "metadata": {},
     "output_type": "display_data"
    }
   ],
   "source": [
    "plt.figure(figsize=(8,6))\n",
    "sns.set_style('darkgrid')\n",
    "sns.countplot(x = bottom_states_provinces['StateProvince'], data = bottom_states_provinces)\n",
    "plt.xticks(rotation = '90')\n",
    "plt.show ()"
   ]
  },
  {
   "cell_type": "markdown",
   "metadata": {},
   "source": [
    "###### City\n",
    "\n",
    "Specific Questions:\n",
    "\n",
    "What are the top 10 cities for customers"
   ]
  },
  {
   "cell_type": "code",
   "execution_count": 15,
   "metadata": {},
   "outputs": [
    {
     "data": {
      "text/plain": [
       "Toronto        23\n",
       "Montreal       13\n",
       "London         13\n",
       "Calgary        11\n",
       "Mississauga     6\n",
       "Dallas          6\n",
       "Richmond        6\n",
       "Ottawa          5\n",
       "San Antonio     5\n",
       "Chicago         5\n",
       "Name: City, dtype: int64"
      ]
     },
     "execution_count": 15,
     "metadata": {},
     "output_type": "execute_result"
    }
   ],
   "source": [
    "customer_data['City'].value_counts().head(10)"
   ]
  },
  {
   "cell_type": "code",
   "execution_count": 16,
   "metadata": {},
   "outputs": [],
   "source": [
    "top_city = ['Toronto','Montreal','London','Calgary','Dallas','Mississauga','Richmond','Ottawa','Burnaby',' San Antonio'] # Create a List of Top five State Provinces\n",
    "top_cities = customer_data[customer_data['City'].isin(top_city)] # subsetting data based on specific observations"
   ]
  },
  {
   "cell_type": "code",
   "execution_count": 17,
   "metadata": {},
   "outputs": [
    {
     "data": {
      "image/png": "[encoded data removed]",
      "text/plain": [
       "<Figure size 720x576 with 1 Axes>"
      ]
     },
     "metadata": {},
     "output_type": "display_data"
    }
   ],
   "source": [
    "plt.figure(figsize=(10,8))\n",
    "sns.set_style('darkgrid')\n",
    "sns.countplot(x = top_cities['City'], data = top_cities)\n",
    "plt.xticks(rotation = '90')\n",
    "plt.show ()"
   ]
  },
  {
   "cell_type": "markdown",
   "metadata": {},
   "source": [
    "We wont be creating the same plot for the bottom 10 cities as the count plot will be usless as there are 256 unique cities in which a large majority of them are equal to one. This was noted in our prior dataset analysis."
   ]
  },
  {
   "cell_type": "markdown",
   "metadata": {},
   "source": [
    "In order to find a more flexible and efficient way to count occurrences of a character in a Python string, you can also use the Counter object from the built-in collections module. The module provides a number of help classes to work with, well, collections of different items."
   ]
  },
  {
   "cell_type": "markdown",
   "metadata": {},
   "source": [
    "##### Updated Task - Pie Chart\n",
    "\n",
    "NOTE\n",
    "\n",
    "Pandas Series is a one-dimensional labeled array capable of holding data of any type (integer, string, float, python objects, etc.). The axis labels are collectively called index. Pandas Series is nothing but a column in an excel sheet.\n",
    "\n",
    "Objective\n",
    "\n",
    "We will access one of the pandas dataframe columns (pandas series) and migrate this data into one of Pythons ordered in built data structures. The order of the data is most important for this specific task.\n",
    "\n",
    "STEPS\n",
    "\n",
    "1. We will loop through a pandas series (one column) using iteritems() method and add this data to a Python list (orderd data structure). The data we will add is each time a specific city is in our already sub-setted dataframe from previous. \n",
    "\n",
    "2. We will then import the Counter object from the built in collections module and use this to count the number of string (city) occurences in our list.\n",
    "\n",
    "3. We will convert our counter data structure into a dictionary of key value pairs. Checks have been made to ensure data is ordered during migration. Dictionary is one of Pythons in built data structures, in which Python veriosn 3.7 and above these data strucutures are now ordered. This is important to note - remember we want to keep the order of our data.\n",
    "\n",
    "4. We will then loop through the dictionary using the items() method and append each key (city) and value (city occurence) to empty lists.\n",
    "\n",
    "5. We will then use this data to generate a pie chart."
   ]
  },
  {
   "cell_type": "code",
   "execution_count": 18,
   "metadata": {},
   "outputs": [
    {
     "name": "stdout",
     "output_type": "stream",
     "text": [
      "['Dallas', 'Montreal', 'Burnaby', 'Toronto', 'Calgary', 'Ottawa', 'Richmond', 'Mississauga', 'London']\n",
      "[6, 13, 5, 23, 11, 5, 6, 6, 13]\n"
     ]
    }
   ],
   "source": [
    "empty_list = [] # initiate empty list\n",
    "for num,city in top_cities['City'].iteritems(): # iteritems() method generates an iterator object of the DataFrame, allowing us to iterate each column of the DataFrame\n",
    "    empty_list.append(city)\n",
    "\n",
    "# convert list to counter to count string occurence in list\n",
    "collection = Counter(empty_list)\n",
    "\n",
    "# convert data stucture counter into dictionary\n",
    "city_dict = dict(collection)\n",
    "\n",
    "city = [] # initiate empty dictionary\n",
    "occurence = [] # initiate empty dictionary\n",
    "for key, value in city_dict.items(): # items() method will return each item in a dictionary as tuples in a list\n",
    "    city.append(key) # append method will add items to list\n",
    "    occurence.append(value)\n",
    "\n",
    "print(city)\n",
    "print(occurence)"
   ]
  },
  {
   "cell_type": "code",
   "execution_count": 26,
   "metadata": {},
   "outputs": [
    {
     "data": {
      "image/png": "[encoded data removed]",
      "text/plain": [
       "<Figure size 720x576 with 1 Axes>"
      ]
     },
     "metadata": {},
     "output_type": "display_data"
    },
    {
     "data": {
      "text/plain": [
       "(None,\n",
       " Toronto        23\n",
       " Montreal       13\n",
       " London         13\n",
       " Calgary        11\n",
       " Mississauga     6\n",
       " Dallas          6\n",
       " Richmond        6\n",
       " Ottawa          5\n",
       " San Antonio     5\n",
       " Chicago         5\n",
       " Name: City, dtype: int64)"
      ]
     },
     "execution_count": 26,
     "metadata": {},
     "output_type": "execute_result"
    }
   ],
   "source": [
    "# figure size\n",
    "plt.figure(figsize=(10,8))\n",
    "\n",
    "# define Seaborn color palette to use\n",
    "palette_color = sns.color_palette('bright')\n",
    "  \n",
    "# plotting data on chart\n",
    "plt.pie(occurence, labels=city, colors=palette_color, autopct='%.0f%%')\n",
    "\n",
    "# Title\n",
    "plt.title('Top 10 Customer City Percentage')\n",
    "  \n",
    "# displaying chart\n",
    "plt.show(), customer_data['City'].value_counts().head(10)"
   ]
  },
  {
   "cell_type": "code",
   "execution_count": null,
   "metadata": {},
   "outputs": [],
   "source": []
  }
 ],
 "metadata": {
  "kernelspec": {
   "display_name": "Python 3",
   "language": "python",
   "name": "python3"
  },
  "language_info": {
   "codemirror_mode": {
    "name": "ipython",
    "version": 3
   },
   "file_extension": ".py",
   "mimetype": "text/x-python",
   "name": "python",
   "nbconvert_exporter": "python",
   "pygments_lexer": "ipython3",
   "version": "3.8.3"
  }
 },
 "nbformat": 4,
 "nbformat_minor": 4
}
